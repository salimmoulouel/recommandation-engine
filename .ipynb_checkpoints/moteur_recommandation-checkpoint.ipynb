{
 "cells": [
  {
   "cell_type": "markdown",
   "metadata": {},
   "source": [
    "### la source des données\n",
    "https://github.com/zygmuntz/goodbooks-10k"
   ]
  },
  {
   "cell_type": "code",
   "execution_count": 1,
   "metadata": {},
   "outputs": [
    {
     "data": {
      "text/plain": [
       "'C:\\\\spark\\\\spark-3.0.0-bin-hadoop2.7'"
      ]
     },
     "execution_count": 1,
     "metadata": {},
     "output_type": "execute_result"
    }
   ],
   "source": [
    "#integration de spark dans le notebook\n",
    "import findspark\n",
    "findspark.init()\n",
    "findspark.find()\n",
    "import pyspark\n",
    "findspark.find()"
   ]
  },
  {
   "cell_type": "code",
   "execution_count": 2,
   "metadata": {},
   "outputs": [],
   "source": [
    "from pyspark import SparkContext,SparkConf\n",
    "from pyspark.sql import SparkSession\n",
    "from pyspark.sql.functions import *"
   ]
  },
  {
   "cell_type": "code",
   "execution_count": 3,
   "metadata": {},
   "outputs": [],
   "source": [
    "from pyspark.sql.types import *"
   ]
  },
  {
   "cell_type": "code",
   "execution_count": 4,
   "metadata": {},
   "outputs": [],
   "source": [
    "conf=SparkConf().setAppName('appName').setMaster('local')#creation d'un fichier conf\n",
    "sc=SparkContext.getOrCreate()\n",
    "spark=SparkSession(sc)#creation d'une session spark"
   ]
  },
  {
   "cell_type": "code",
   "execution_count": 5,
   "metadata": {},
   "outputs": [],
   "source": [
    "books=spark.read.csv(\"data/books.csv\",header=True)#book  conntient les information sur les livres"
   ]
  },
  {
   "cell_type": "code",
   "execution_count": 6,
   "metadata": {},
   "outputs": [],
   "source": [
    "#les données à apprendre pour l'algo doivent etre des entiers\n",
    "simpleSchema=StructType([StructField(\"user_id\",IntegerType(),True),\\\n",
    "                                  StructField(\"book_id\",IntegerType(),True),\\\n",
    "                                  StructField(\"rating\",IntegerType(),True)])"
   ]
  },
  {
   "cell_type": "code",
   "execution_count": 7,
   "metadata": {},
   "outputs": [],
   "source": [
    "ratings=spark.read.csv(\"data/ratings.csv\",header=True,schema=simpleSchema)#chargemtn des notes"
   ]
  },
  {
   "cell_type": "code",
   "execution_count": 8,
   "metadata": {},
   "outputs": [],
   "source": [
    "to_read=spark.read.csv(\"data/to_read.csv\",header=True)#chargement des livre que des utilisateur ont lu, on ne sait pas si ils sont notés"
   ]
  },
  {
   "cell_type": "code",
   "execution_count": 9,
   "metadata": {},
   "outputs": [],
   "source": [
    "# creer vue à partir de la lecture csv spark pour appliquer du sql dessus\n",
    "books.createOrReplaceTempView(\"books\")"
   ]
  },
  {
   "cell_type": "code",
   "execution_count": 10,
   "metadata": {},
   "outputs": [],
   "source": [
    "ratings.createOrReplaceTempView(\"ratings\")"
   ]
  },
  {
   "cell_type": "code",
   "execution_count": 11,
   "metadata": {
    "scrolled": true
   },
   "outputs": [],
   "source": [
    "to_read.createOrReplaceTempView(\"to_read\")"
   ]
  },
  {
   "cell_type": "markdown",
   "metadata": {},
   "source": [
    "#### source de données ici"
   ]
  },
  {
   "cell_type": "code",
   "execution_count": 73,
   "metadata": {},
   "outputs": [
    {
     "data": {
      "text/plain": [
       "DataFrame[summary: string, user_id: string, book_id: string]"
      ]
     },
     "execution_count": 73,
     "metadata": {},
     "output_type": "execute_result"
    }
   ],
   "source": []
  },
  {
   "cell_type": "code",
   "execution_count": 12,
   "metadata": {
    "scrolled": true
   },
   "outputs": [
    {
     "name": "stdout",
     "output_type": "stream",
     "text": [
      "+------+--------------------+--------------------+--------------+----------+-------------+-------------+-----------+-------------+------------------+----------------+--------------------+\n",
      "|bookID|               title|             authors|average_rating|      isbn|       isbn13|language_code|  num_pages|ratings_count|text_reviews_count|publication_date|           publisher|\n",
      "+------+--------------------+--------------------+--------------+----------+-------------+-------------+-----------+-------------+------------------+----------------+--------------------+\n",
      "|     1|Harry Potter and ...|J.K. Rowling/Mary...|          4.57|0439785960|9780439785969|          eng|        652|      2095690|             27591|       9/16/2006|     Scholastic Inc.|\n",
      "|     2|Harry Potter and ...|J.K. Rowling/Mary...|          4.49|0439358078|9780439358071|          eng|        870|      2153167|             29221|        9/1/2004|     Scholastic Inc.|\n",
      "|     4|Harry Potter and ...|        J.K. Rowling|          4.42|0439554896|9780439554893|          eng|        352|         6333|               244|       11/1/2003|          Scholastic|\n",
      "|     5|Harry Potter and ...|J.K. Rowling/Mary...|          4.56|043965548X|9780439655484|          eng|        435|      2339585|             36325|        5/1/2004|     Scholastic Inc.|\n",
      "|     8|Harry Potter Boxe...|J.K. Rowling/Mary...|          4.78|0439682584|9780439682589|          eng|       2690|        41428|               164|       9/13/2004|          Scholastic|\n",
      "|     9|Unauthorized Harr...|W. Frederick Zimm...|          3.74|0976540606|9780976540601|        en-US|        152|           19|                 1|       4/26/2005|        Nimble Books|\n",
      "|    10|Harry Potter Coll...|        J.K. Rowling|          4.73|0439827604|9780439827607|          eng|       3342|        28242|               808|       9/12/2005|          Scholastic|\n",
      "|    12|The Ultimate Hitc...|       Douglas Adams|          4.38|0517226952|9780517226957|          eng|        815|         3628|               254|       11/1/2005|      Gramercy Books|\n",
      "|    13|The Ultimate Hitc...|       Douglas Adams|          4.38|0345453743|9780345453747|          eng|        815|       249558|              4080|       4/30/2002|       Del Rey Books|\n",
      "|    14|The Hitchhiker's ...|       Douglas Adams|          4.22|1400052920|9781400052929|          eng|        215|         4930|               460|        8/3/2004|               Crown|\n",
      "|    16|The Hitchhiker's ...|Douglas Adams/Ste...|          4.22|0739322206|9780739322208|          eng|          6|         1266|               253|       3/23/2005|  Random House Audio|\n",
      "|    18|The Ultimate Hitc...|       Douglas Adams|          4.38|0517149257|9780517149256|          eng|        815|         2877|               195|       1/17/1996|         Wings Books|\n",
      "|    21|A Short History o...|         Bill Bryson|          4.21|076790818X|9780767908184|          eng|        544|       248558|              9396|       9/14/2004|      Broadway Books|\n",
      "|    22|Bill Bryson's Afr...|         Bill Bryson|          3.44|0767915062|9780767915069|          eng|         55|         7270|               499|       12/3/2002|      Broadway Books|\n",
      "|    23|Bryson's Dictiona...|         Bill Bryson|          3.87|0767910435|9780767910439|          eng|        256|         2088|               131|       9/14/2004|      Broadway Books|\n",
      "|    24|In a Sunburned Co...|         Bill Bryson|          4.07|0767903862|9780767903868|          eng|        335|        72451|              4245|       5/15/2001|      Broadway Books|\n",
      "|    25|I'm a Stranger He...|         Bill Bryson|          3.90|076790382X|9780767903820|          eng|        304|        49240|              2211|       6/28/2000|      Broadway Books|\n",
      "|    26|The Lost Continen...|         Bill Bryson|          3.83|0060920084|9780060920081|          eng|        299|        45712|              2257|       8/28/1990|William Morrow Pa...|\n",
      "|    27|Neither Here nor ...|         Bill Bryson|          3.86|0380713802|9780380713806|          eng|        254|        48701|              2238|       3/28/1993|William Morrow Pa...|\n",
      "|    28|Notes from a Smal...|         Bill Bryson|          3.91|0380727501|9780380727506|          eng|        324|        80609|              3301|       5/28/1997|William Morrow Pa...|\n",
      "+------+--------------------+--------------------+--------------+----------+-------------+-------------+-----------+-------------+------------------+----------------+--------------------+\n",
      "only showing top 20 rows\n",
      "\n"
     ]
    }
   ],
   "source": [
    "# apercu donné de la table book_base\n",
    "spark.sql(\"select * from books\").show()"
   ]
  },
  {
   "cell_type": "code",
   "execution_count": 13,
   "metadata": {
    "scrolled": true
   },
   "outputs": [
    {
     "name": "stdout",
     "output_type": "stream",
     "text": [
      "+-------+-------+\n",
      "|user_id|book_id|\n",
      "+-------+-------+\n",
      "|      9|      8|\n",
      "|     15|    398|\n",
      "|     15|    275|\n",
      "|     37|   7173|\n",
      "|     34|    380|\n",
      "|     34|    483|\n",
      "|     34|   8598|\n",
      "|     34|   3581|\n",
      "|     70|    498|\n",
      "|     76|   4250|\n",
      "|     94|   1167|\n",
      "|     29|   3508|\n",
      "|     29|   4475|\n",
      "|     29|    323|\n",
      "|     29|    131|\n",
      "|     29|   2304|\n",
      "|    105|    233|\n",
      "|    113|   6756|\n",
      "|    113|   7127|\n",
      "|     29|   2284|\n",
      "+-------+-------+\n",
      "only showing top 20 rows\n",
      "\n"
     ]
    }
   ],
   "source": [
    "# apercu donné de la table book_base\n",
    "spark.sql(\"select * from to_read\").show()"
   ]
  },
  {
   "cell_type": "code",
   "execution_count": 13,
   "metadata": {
    "scrolled": true
   },
   "outputs": [
    {
     "data": {
      "text/plain": [
       "[Table(name='books', database=None, description=None, tableType='TEMPORARY', isTemporary=True),\n",
       " Table(name='ratings', database=None, description=None, tableType='TEMPORARY', isTemporary=True),\n",
       " Table(name='to_read', database=None, description=None, tableType='TEMPORARY', isTemporary=True)]"
      ]
     },
     "execution_count": 13,
     "metadata": {},
     "output_type": "execute_result"
    }
   ],
   "source": [
    "spark.catalog.listTables()#affichage de la liste de vues enregistrés"
   ]
  },
  {
   "cell_type": "code",
   "execution_count": 76,
   "metadata": {},
   "outputs": [],
   "source": [
    "%load_ext autoreload\n",
    "%autoreload 2"
   ]
  },
  {
   "cell_type": "code",
   "execution_count": 14,
   "metadata": {
    "scrolled": true
   },
   "outputs": [],
   "source": [
    "import pandas as pd\n",
    "import numpy as np"
   ]
  },
  {
   "cell_type": "code",
   "execution_count": null,
   "metadata": {},
   "outputs": [],
   "source": []
  },
  {
   "cell_type": "code",
   "execution_count": 11,
   "metadata": {
    "scrolled": true
   },
   "outputs": [
    {
     "data": {
      "text/html": [
       "<div>\n",
       "<style scoped>\n",
       "    .dataframe tbody tr th:only-of-type {\n",
       "        vertical-align: middle;\n",
       "    }\n",
       "\n",
       "    .dataframe tbody tr th {\n",
       "        vertical-align: top;\n",
       "    }\n",
       "\n",
       "    .dataframe thead th {\n",
       "        text-align: right;\n",
       "    }\n",
       "</style>\n",
       "<table border=\"1\" class=\"dataframe\">\n",
       "  <thead>\n",
       "    <tr style=\"text-align: right;\">\n",
       "      <th></th>\n",
       "      <th>bookID</th>\n",
       "      <th>title</th>\n",
       "      <th>authors</th>\n",
       "      <th>average_rating</th>\n",
       "      <th>isbn</th>\n",
       "      <th>isbn13</th>\n",
       "      <th>language_code</th>\n",
       "      <th>num_pages</th>\n",
       "      <th>ratings_count</th>\n",
       "      <th>text_reviews_count</th>\n",
       "      <th>publication_date</th>\n",
       "      <th>publisher</th>\n",
       "    </tr>\n",
       "  </thead>\n",
       "  <tbody>\n",
       "    <tr>\n",
       "      <th>0</th>\n",
       "      <td>18405</td>\n",
       "      <td>Gone with the Wind</td>\n",
       "      <td>Margaret Mitchell</td>\n",
       "      <td>4.29</td>\n",
       "      <td>0446675539</td>\n",
       "      <td>9780446675536</td>\n",
       "      <td>eng</td>\n",
       "      <td>1037</td>\n",
       "      <td>999139</td>\n",
       "      <td>15323</td>\n",
       "      <td>4/1/1999</td>\n",
       "      <td>Warner Books</td>\n",
       "    </tr>\n",
       "    <tr>\n",
       "      <th>1</th>\n",
       "      <td>13767</td>\n",
       "      <td>Red River  Vol. 16 (Red River  #16)</td>\n",
       "      <td>Chie Shinohara</td>\n",
       "      <td>4.45</td>\n",
       "      <td>1421505584</td>\n",
       "      <td>9781421505589</td>\n",
       "      <td>eng</td>\n",
       "      <td>191</td>\n",
       "      <td>999</td>\n",
       "      <td>13</td>\n",
       "      <td>1/1/2007</td>\n",
       "      <td>Viz Media</td>\n",
       "    </tr>\n",
       "    <tr>\n",
       "      <th>2</th>\n",
       "      <td>15669</td>\n",
       "      <td>Strangers In Paradise  Pocket Book 5</td>\n",
       "      <td>Terry Moore</td>\n",
       "      <td>4.38</td>\n",
       "      <td>1892597381</td>\n",
       "      <td>9781892597380</td>\n",
       "      <td>eng</td>\n",
       "      <td>392</td>\n",
       "      <td>999</td>\n",
       "      <td>24</td>\n",
       "      <td>12/14/2005</td>\n",
       "      <td>Abstract Studio</td>\n",
       "    </tr>\n",
       "    <tr>\n",
       "      <th>3</th>\n",
       "      <td>9919</td>\n",
       "      <td>A Christmas Memory</td>\n",
       "      <td>Truman Capote</td>\n",
       "      <td>4.24</td>\n",
       "      <td>0375837892</td>\n",
       "      <td>9780375837890</td>\n",
       "      <td>eng</td>\n",
       "      <td>48</td>\n",
       "      <td>9982</td>\n",
       "      <td>849</td>\n",
       "      <td>10/10/2006</td>\n",
       "      <td>Knopf Books for Young Readers</td>\n",
       "    </tr>\n",
       "    <tr>\n",
       "      <th>4</th>\n",
       "      <td>40184</td>\n",
       "      <td>Encore Provence: New Adventures in the South o...</td>\n",
       "      <td>Peter Mayle</td>\n",
       "      <td>4.00</td>\n",
       "      <td>0679762698</td>\n",
       "      <td>9780679762690</td>\n",
       "      <td>eng</td>\n",
       "      <td>240</td>\n",
       "      <td>9980</td>\n",
       "      <td>254</td>\n",
       "      <td>4/25/2000</td>\n",
       "      <td>Vintage</td>\n",
       "    </tr>\n",
       "    <tr>\n",
       "      <th>5</th>\n",
       "      <td>22472</td>\n",
       "      <td>Discourse on the Origin of Inequality</td>\n",
       "      <td>Jean-Jacques Rousseau</td>\n",
       "      <td>3.82</td>\n",
       "      <td>0486434141</td>\n",
       "      <td>9780486434148</td>\n",
       "      <td>eng</td>\n",
       "      <td>73</td>\n",
       "      <td>9975</td>\n",
       "      <td>210</td>\n",
       "      <td>6/4/2004</td>\n",
       "      <td>Dover Publications</td>\n",
       "    </tr>\n",
       "    <tr>\n",
       "      <th>6</th>\n",
       "      <td>20505</td>\n",
       "      <td>The Print (Ansel Adams Photography  #3)</td>\n",
       "      <td>Ansel Adams/Robert Hardy Baker</td>\n",
       "      <td>4.37</td>\n",
       "      <td>0821221876</td>\n",
       "      <td>9780821221877</td>\n",
       "      <td>en-US</td>\n",
       "      <td>203</td>\n",
       "      <td>997</td>\n",
       "      <td>14</td>\n",
       "      <td>6/1/1995</td>\n",
       "      <td>Little  Brown and Company</td>\n",
       "    </tr>\n",
       "    <tr>\n",
       "      <th>7</th>\n",
       "      <td>34558</td>\n",
       "      <td>Real Ultimate Power: The Official Ninja Book</td>\n",
       "      <td>Robert  Hamburger</td>\n",
       "      <td>4.00</td>\n",
       "      <td>080652569X</td>\n",
       "      <td>9780806525693</td>\n",
       "      <td>eng</td>\n",
       "      <td>193</td>\n",
       "      <td>997</td>\n",
       "      <td>117</td>\n",
       "      <td>7/1/2004</td>\n",
       "      <td>Citadel</td>\n",
       "    </tr>\n",
       "    <tr>\n",
       "      <th>8</th>\n",
       "      <td>41464</td>\n",
       "      <td>Moon in a Dewdrop: Writings of Zen Master Dogen</td>\n",
       "      <td>Dōgen/Kazuaki Tanahashi/Robert Aitken/Reb Ande...</td>\n",
       "      <td>4.28</td>\n",
       "      <td>086547186X</td>\n",
       "      <td>9780865471863</td>\n",
       "      <td>eng</td>\n",
       "      <td>356</td>\n",
       "      <td>997</td>\n",
       "      <td>27</td>\n",
       "      <td>10/31/1995</td>\n",
       "      <td>North Point Press</td>\n",
       "    </tr>\n",
       "    <tr>\n",
       "      <th>9</th>\n",
       "      <td>8515</td>\n",
       "      <td>The Man Who Listens to Horses</td>\n",
       "      <td>Monty Roberts/Lucy Grealy/Lawrence Scanlan</td>\n",
       "      <td>4.12</td>\n",
       "      <td>034542705X</td>\n",
       "      <td>9780345427052</td>\n",
       "      <td>en-US</td>\n",
       "      <td>352</td>\n",
       "      <td>9963</td>\n",
       "      <td>206</td>\n",
       "      <td>11/28/1998</td>\n",
       "      <td>Ballantine Books</td>\n",
       "    </tr>\n",
       "  </tbody>\n",
       "</table>\n",
       "</div>"
      ],
      "text/plain": [
       "  bookID                                              title  \\\n",
       "0  18405                                 Gone with the Wind   \n",
       "1  13767                Red River  Vol. 16 (Red River  #16)   \n",
       "2  15669               Strangers In Paradise  Pocket Book 5   \n",
       "3   9919                                 A Christmas Memory   \n",
       "4  40184  Encore Provence: New Adventures in the South o...   \n",
       "5  22472              Discourse on the Origin of Inequality   \n",
       "6  20505            The Print (Ansel Adams Photography  #3)   \n",
       "7  34558       Real Ultimate Power: The Official Ninja Book   \n",
       "8  41464    Moon in a Dewdrop: Writings of Zen Master Dogen   \n",
       "9   8515                      The Man Who Listens to Horses   \n",
       "\n",
       "                                             authors average_rating  \\\n",
       "0                                  Margaret Mitchell           4.29   \n",
       "1                                     Chie Shinohara           4.45   \n",
       "2                                        Terry Moore           4.38   \n",
       "3                                      Truman Capote           4.24   \n",
       "4                                        Peter Mayle           4.00   \n",
       "5                              Jean-Jacques Rousseau           3.82   \n",
       "6                     Ansel Adams/Robert Hardy Baker           4.37   \n",
       "7                                  Robert  Hamburger           4.00   \n",
       "8  Dōgen/Kazuaki Tanahashi/Robert Aitken/Reb Ande...           4.28   \n",
       "9         Monty Roberts/Lucy Grealy/Lawrence Scanlan           4.12   \n",
       "\n",
       "         isbn         isbn13 language_code   num_pages ratings_count  \\\n",
       "0  0446675539  9780446675536           eng        1037        999139   \n",
       "1  1421505584  9781421505589           eng         191           999   \n",
       "2  1892597381  9781892597380           eng         392           999   \n",
       "3  0375837892  9780375837890           eng          48          9982   \n",
       "4  0679762698  9780679762690           eng         240          9980   \n",
       "5  0486434141  9780486434148           eng          73          9975   \n",
       "6  0821221876  9780821221877         en-US         203           997   \n",
       "7  080652569X  9780806525693           eng         193           997   \n",
       "8  086547186X  9780865471863           eng         356           997   \n",
       "9  034542705X  9780345427052         en-US         352          9963   \n",
       "\n",
       "  text_reviews_count publication_date                      publisher  \n",
       "0              15323         4/1/1999                   Warner Books  \n",
       "1                 13         1/1/2007                      Viz Media  \n",
       "2                 24       12/14/2005                Abstract Studio  \n",
       "3                849       10/10/2006  Knopf Books for Young Readers  \n",
       "4                254        4/25/2000                        Vintage  \n",
       "5                210         6/4/2004             Dover Publications  \n",
       "6                 14         6/1/1995      Little  Brown and Company  \n",
       "7                117         7/1/2004                        Citadel  \n",
       "8                 27       10/31/1995              North Point Press  \n",
       "9                206       11/28/1998               Ballantine Books  "
      ]
     },
     "execution_count": 11,
     "metadata": {},
     "output_type": "execute_result"
    }
   ],
   "source": [
    "spark.sql(\"select * from books order by ratings_count desc\").toPandas().head(10)#livre les plus notés"
   ]
  },
  {
   "cell_type": "code",
   "execution_count": 12,
   "metadata": {
    "scrolled": true
   },
   "outputs": [
    {
     "data": {
      "text/html": [
       "<div>\n",
       "<style scoped>\n",
       "    .dataframe tbody tr th:only-of-type {\n",
       "        vertical-align: middle;\n",
       "    }\n",
       "\n",
       "    .dataframe tbody tr th {\n",
       "        vertical-align: top;\n",
       "    }\n",
       "\n",
       "    .dataframe thead th {\n",
       "        text-align: right;\n",
       "    }\n",
       "</style>\n",
       "<table border=\"1\" class=\"dataframe\">\n",
       "  <thead>\n",
       "    <tr style=\"text-align: right;\">\n",
       "      <th></th>\n",
       "      <th>title</th>\n",
       "      <th>ratings_count</th>\n",
       "      <th>average_rating</th>\n",
       "    </tr>\n",
       "  </thead>\n",
       "  <tbody>\n",
       "    <tr>\n",
       "      <th>0</th>\n",
       "      <td>The Diamond Color Meditation: Color Pathway to...</td>\n",
       "      <td>5</td>\n",
       "      <td>5.00</td>\n",
       "    </tr>\n",
       "    <tr>\n",
       "      <th>1</th>\n",
       "      <td>Literature Circle Guide: Bridge to Terabithia:...</td>\n",
       "      <td>4</td>\n",
       "      <td>5.00</td>\n",
       "    </tr>\n",
       "    <tr>\n",
       "      <th>2</th>\n",
       "      <td>Bulgakov's the Master and Margarita: The Text ...</td>\n",
       "      <td>4</td>\n",
       "      <td>5.00</td>\n",
       "    </tr>\n",
       "    <tr>\n",
       "      <th>3</th>\n",
       "      <td>The Goon Show  Volume 4: My Knees Have Fallen ...</td>\n",
       "      <td>3</td>\n",
       "      <td>5.00</td>\n",
       "    </tr>\n",
       "    <tr>\n",
       "      <th>4</th>\n",
       "      <td>Middlesex Borough (Images of America: New Jersey)</td>\n",
       "      <td>2</td>\n",
       "      <td>5.00</td>\n",
       "    </tr>\n",
       "    <tr>\n",
       "      <th>5</th>\n",
       "      <td>Zone of the Enders: The 2nd Runner Official St...</td>\n",
       "      <td>2</td>\n",
       "      <td>5.00</td>\n",
       "    </tr>\n",
       "    <tr>\n",
       "      <th>6</th>\n",
       "      <td>The Goon Show  Volume 11: He's Fallen in the W...</td>\n",
       "      <td>2</td>\n",
       "      <td>5.00</td>\n",
       "    </tr>\n",
       "    <tr>\n",
       "      <th>7</th>\n",
       "      <td>Winchester Shotguns</td>\n",
       "      <td>2</td>\n",
       "      <td>5.00</td>\n",
       "    </tr>\n",
       "    <tr>\n",
       "      <th>8</th>\n",
       "      <td>The New Big Book of America</td>\n",
       "      <td>2</td>\n",
       "      <td>5.00</td>\n",
       "    </tr>\n",
       "    <tr>\n",
       "      <th>9</th>\n",
       "      <td>Tyrannosaurus Wrecks (Stanley  #1)</td>\n",
       "      <td>2</td>\n",
       "      <td>5.00</td>\n",
       "    </tr>\n",
       "  </tbody>\n",
       "</table>\n",
       "</div>"
      ],
      "text/plain": [
       "                                               title ratings_count  \\\n",
       "0  The Diamond Color Meditation: Color Pathway to...             5   \n",
       "1  Literature Circle Guide: Bridge to Terabithia:...             4   \n",
       "2  Bulgakov's the Master and Margarita: The Text ...             4   \n",
       "3  The Goon Show  Volume 4: My Knees Have Fallen ...             3   \n",
       "4  Middlesex Borough (Images of America: New Jersey)             2   \n",
       "5  Zone of the Enders: The 2nd Runner Official St...             2   \n",
       "6  The Goon Show  Volume 11: He's Fallen in the W...             2   \n",
       "7                                Winchester Shotguns             2   \n",
       "8                        The New Big Book of America             2   \n",
       "9                 Tyrannosaurus Wrecks (Stanley  #1)             2   \n",
       "\n",
       "  average_rating  \n",
       "0           5.00  \n",
       "1           5.00  \n",
       "2           5.00  \n",
       "3           5.00  \n",
       "4           5.00  \n",
       "5           5.00  \n",
       "6           5.00  \n",
       "7           5.00  \n",
       "8           5.00  \n",
       "9           5.00  "
      ]
     },
     "execution_count": 12,
     "metadata": {},
     "output_type": "execute_result"
    }
   ],
   "source": [
    "spark.sql(\"select * from books order by average_rating desc,ratings_count desc\").toPandas().head(10)[[\"title\",\"ratings_count\",\"average_rating\"]]#livre les mieux noté et les plus notés"
   ]
  },
  {
   "cell_type": "code",
   "execution_count": 40,
   "metadata": {},
   "outputs": [],
   "source": []
  },
  {
   "cell_type": "code",
   "execution_count": 15,
   "metadata": {
    "scrolled": true
   },
   "outputs": [
    {
     "name": "stdout",
     "output_type": "stream",
     "text": [
      "+--------------------+--------+\n",
      "|             authors|nb_books|\n",
      "+--------------------+--------+\n",
      "|Richard A. Knaak/...|       1|\n",
      "|Louis-Ferdinand C...|       1|\n",
      "|    Laurence Olivier|       1|\n",
      "|Giorgio De Santil...|       1|\n",
      "|Detlev J.K. Peuke...|       1|\n",
      "|          James Frey|       1|\n",
      "|Gardner Dozois/Ge...|       1|\n",
      "|    Amanda Eyre Ward|       1|\n",
      "|Grant Morrison/St...|       1|\n",
      "|Wendy  Mitchell/J...|       1|\n",
      "|Leo Tolstoy/Const...|       1|\n",
      "|Michael Eliot Howard|       1|\n",
      "|Sally Potter/Virg...|       1|\n",
      "|William Shakespea...|       1|\n",
      "|Jonathan Clements...|       1|\n",
      "|        Doug Stanton|       1|\n",
      "|J.M. Coetzee/Davi...|       1|\n",
      "|Albert Jack/Ann Page|       1|\n",
      "|Zadie Smith/David...|       1|\n",
      "|C.G. Jung/James L...|       1|\n",
      "+--------------------+--------+\n",
      "only showing top 20 rows\n",
      "\n"
     ]
    }
   ],
   "source": [
    "books.groupby(\"authors\").agg(sf.countDistinct(\"bookid\").alias(\"nb_books\")).orderBy(\"nb_books\").show()#nombre de livres ecrit par auteur"
   ]
  },
  {
   "cell_type": "markdown",
   "metadata": {},
   "source": [
    "### mise en place du moteur de recomandation"
   ]
  },
  {
   "cell_type": "code",
   "execution_count": 12,
   "metadata": {},
   "outputs": [],
   "source": [
    "from pyspark.ml.evaluation import RegressionEvaluator\n",
    "from pyspark.ml.recommendation import ALS\n",
    "from pyspark.sql import Row"
   ]
  },
  {
   "cell_type": "code",
   "execution_count": 13,
   "metadata": {},
   "outputs": [],
   "source": [
    "from pyspark.ml.tuning import ParamGridBuilder, CrossValidator\n"
   ]
  },
  {
   "cell_type": "code",
   "execution_count": 33,
   "metadata": {},
   "outputs": [],
   "source": [
    "\n",
    "als=ALS(userCol=\"user_id\",itemCol=\"book_id\",ratingCol=\"rating\",coldStartStrategy=\"drop\",nonnegative=True,implicitPrefs=False)"
   ]
  },
  {
   "cell_type": "code",
   "execution_count": 34,
   "metadata": {},
   "outputs": [
    {
     "data": {
      "text/plain": [
       "1587"
      ]
     },
     "execution_count": 34,
     "metadata": {},
     "output_type": "execute_result"
    }
   ],
   "source": [
    "import gc\n",
    "gc.collect()"
   ]
  },
  {
   "cell_type": "code",
   "execution_count": 35,
   "metadata": {},
   "outputs": [
    {
     "name": "stdout",
     "output_type": "stream",
     "text": [
      "nombre de models qui seronts téstés en grid search 1\n"
     ]
    }
   ],
   "source": [
    "#grid search des meilleurs hyperparamtres\n",
    "param_grid = ParamGridBuilder()\\\n",
    ".addGrid(als.rank,[25]).addGrid(als.maxIter,[25]).addGrid(als.regParam,[.05])\\\n",
    ".build()\n",
    "print(\"nombre de models qui seronts téstés en grid search\",len(param_grid))"
   ]
  },
  {
   "cell_type": "code",
   "execution_count": 36,
   "metadata": {},
   "outputs": [],
   "source": [
    "#mise en place de la fonction de loss qui sera optimisé lors de la descente de gradient rmse\n",
    "evaluator = RegressionEvaluator(metricName=\"rmse\",labelCol=\"rating\",predictionCol=\"prediction\")#calculateur de rmse"
   ]
  },
  {
   "cell_type": "markdown",
   "metadata": {
    "scrolled": true
   },
   "source": [
    "cv=CrossValidator(estimator=als,estimatorParamMaps=param_grid,evaluator=evaluator,numFolds=2)#cross validation à utiliser si puissance disponible"
   ]
  },
  {
   "cell_type": "code",
   "execution_count": 19,
   "metadata": {},
   "outputs": [],
   "source": [
    "#sampled_rat=ratings.sample(0.5,3)"
   ]
  },
  {
   "cell_type": "code",
   "execution_count": 37,
   "metadata": {},
   "outputs": [],
   "source": [
    "train,test=ratings.randomSplit([0.7,0.3])#split"
   ]
  },
  {
   "cell_type": "code",
   "execution_count": 38,
   "metadata": {},
   "outputs": [
    {
     "data": {
      "text/plain": [
       "DataFrame[user_id: int, book_id: int, rating: int]"
      ]
     },
     "execution_count": 38,
     "metadata": {},
     "output_type": "execute_result"
    }
   ],
   "source": [
    "train.persist()"
   ]
  },
  {
   "cell_type": "code",
   "execution_count": 39,
   "metadata": {},
   "outputs": [],
   "source": [
    "\n",
    "model=als.fit(train)#entrainement du model"
   ]
  },
  {
   "cell_type": "code",
   "execution_count": 27,
   "metadata": {},
   "outputs": [],
   "source": [
    "prediction=model.transform(test)#prediction en donnée de test"
   ]
  },
  {
   "cell_type": "code",
   "execution_count": 28,
   "metadata": {},
   "outputs": [],
   "source": [
    "prediction.createOrReplaceTempView(\"prediction\")"
   ]
  },
  {
   "cell_type": "code",
   "execution_count": 29,
   "metadata": {
    "scrolled": true
   },
   "outputs": [
    {
     "name": "stdout",
     "output_type": "stream",
     "text": [
      "+-------+-------+------+----------+\n",
      "|user_id|book_id|rating|prediction|\n",
      "+-------+-------+------+----------+\n",
      "|   1645|    148|     4| 3.5029333|\n",
      "|  19553|    148|     5|  4.165433|\n",
      "|  28170|    148|     4|  3.315678|\n",
      "|  33569|    148|     5| 3.5783021|\n",
      "|  34061|    148|     4| 3.1708705|\n",
      "|  40386|    148|     3| 3.6848207|\n",
      "|   2235|    148|     4| 3.8921618|\n",
      "|   3179|    148|     3| 2.8298013|\n",
      "|  19351|    148|     2| 3.1620228|\n",
      "|  31928|    148|     5|  4.275437|\n",
      "|  36312|    148|     5|  3.285214|\n",
      "|  36583|    148|     5| 3.2394557|\n",
      "|  37734|    148|     4|  4.246719|\n",
      "|  39069|    148|     5| 3.1915061|\n",
      "|  48345|    148|     5| 4.6517873|\n",
      "|   1903|    148|     4|  3.932023|\n",
      "|  10798|    148|     3| 3.5681567|\n",
      "|  14377|    148|     3| 3.2825634|\n",
      "|  15173|    148|     2| 2.9241166|\n",
      "|  17775|    148|     3| 3.7793336|\n",
      "+-------+-------+------+----------+\n",
      "only showing top 20 rows\n",
      "\n"
     ]
    }
   ],
   "source": [
    "spark.sql(\"select * from prediction\").show()#les prediction ont l'air d'ere assez proche des notes données"
   ]
  },
  {
   "cell_type": "code",
   "execution_count": 30,
   "metadata": {},
   "outputs": [],
   "source": [
    "rmse_train =evaluator.evaluate(model.transform(train))#rmse en train"
   ]
  },
  {
   "cell_type": "code",
   "execution_count": 31,
   "metadata": {},
   "outputs": [],
   "source": [
    "rmse_test = evaluator.evaluate(prediction)#rmse en test\n"
   ]
  },
  {
   "cell_type": "code",
   "execution_count": 32,
   "metadata": {},
   "outputs": [
    {
     "name": "stdout",
     "output_type": "stream",
     "text": [
      "Root-mean-square error train = 0.7798146252261801\n",
      "Root-mean-square error test = 0.8344528842157122\n"
     ]
    }
   ],
   "source": [
    "print(\"Root-mean-square error train = \" + str(rmse_train))\n",
    "print(\"Root-mean-square error test = \" + str(rmse_test))"
   ]
  }
 ],
 "metadata": {
  "kernelspec": {
   "display_name": "Python 3",
   "language": "python",
   "name": "python3"
  },
  "language_info": {
   "codemirror_mode": {
    "name": "ipython",
    "version": 3
   },
   "file_extension": ".py",
   "mimetype": "text/x-python",
   "name": "python",
   "nbconvert_exporter": "python",
   "pygments_lexer": "ipython3",
   "version": "3.8.3"
  }
 },
 "nbformat": 4,
 "nbformat_minor": 4
}
